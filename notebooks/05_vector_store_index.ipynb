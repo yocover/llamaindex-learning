{
 "cells": [
  {
   "cell_type": "markdown",
   "metadata": {},
   "source": [
    "已连接到 .env (Python 3.10.16)"
   ]
  },
  {
   "cell_type": "code",
   "execution_count": 16,
   "metadata": {},
   "outputs": [],
   "source": [
    "from pprint import pprint\n",
    "import json\n",
    "\n",
    "# 使用更好的格式化输出\n",
    "def format_nodes(nodes):\n",
    "    for i, node in enumerate(nodes, 1):\n",
    "        print(f\"\\n=== Node {i} ===\")\n",
    "        print(f\"ID: {node.id_}\")\n",
    "        print(\n",
    "            f\"Text: {node.text[:100]}...\"\n",
    "            if len(node.text) > 100\n",
    "            else f\"Text: {node.text}\"\n",
    "        )\n",
    "        print(f\"Metadata: {json.dumps(node.metadata, indent=2, ensure_ascii=False)}\")\n",
    "        print(\"=\" * 50)\n"
   ]
  },
  {
   "cell_type": "code",
   "execution_count": 20,
   "metadata": {},
   "outputs": [],
   "source": [
    "from llama_index.llms.ollama import Ollama\n",
    "from llama_index.embeddings.ollama import OllamaEmbedding\n",
    "from llama_index.core import Settings\n",
    "\n",
    "# 使用本地部署的ollama模型\n",
    "llm = Ollama(model=\"llama3.1\", request_timeout=60.0)\n",
    "Settings.llm = llm\n",
    "\n",
    "\n",
    "embed_model = OllamaEmbedding(model_name=\"bge-m3\")\n",
    "Settings.embed_model = embed_model\n",
    "Settings.chunk_size = 512\n",
    "Settings.chunk_overlap = 132"
   ]
  },
  {
   "cell_type": "code",
   "execution_count": 21,
   "metadata": {},
   "outputs": [
    {
     "name": "stdout",
     "output_type": "stream",
     "text": [
      "[Document(id_='68aa3eb1-e715-4a1d-ad37-290d761fa147', embedding=None, metadata={'page_label': '1', 'file_name': '4f63296c.pdf', 'file_path': '/Users/wangzhongjie/workspace/github-projects/llamaindex-learning/notebooks/../data/pdf/4f63296c.pdf', 'file_type': 'application/pdf', 'file_size': 427665, 'creation_date': '2025-03-22', 'last_modified_date': '2025-03-22'}, excluded_embed_metadata_keys=['file_name', 'file_type', 'file_size', 'creation_date', 'last_modified_date', 'last_accessed_date'], excluded_llm_metadata_keys=['file_name', 'file_type', 'file_size', 'creation_date', 'last_modified_date', 'last_accessed_date'], relationships={}, metadata_template='{key}: {value}', metadata_separator='\\n', text_resource=MediaResource(embeddings=None, data=None, text='demo \\n01\\ue088\\nWelcome to the digital twin demonstration presentation of SoftBank Data \\nCenter.\\nFirstly, we begin with the case demonstration session. Through the convenient \\nscene switching function, you will be able to experience the following main \\nfunctional modules:\\n欢迎来到软银数据中⼼数字孪⽣演⽰。\\n⾸先我们进⼊案例演⽰环节，通过便捷的场景切换功能，您将可以体验到以下主要功能模块：\\n02\\ue088\\nRack Space Utilization Statistics: Using advanced data visualization methods, it \\npresents the space utilization rate of each rack through vivid bar charts, making\\nit easy to quickly identify underutilized resources, thus optimizing equipment \\ndeployment strategies.\\n机架空间利⽤率 ：采⽤先进的数据可视化⽅式，通过⽣动的柱状图呈现每个机架的空间利⽤率，⽅便快速识别未充分利⽤\\n的资源，从⽽优化设备部署策略。\\n03\\ue088\\nRack Load-Bearing Statistics: Provides detailed analysis reports on the load-\\nbearing weight of racks, ensuring all operations comply with safety standards \\nand effectively preventing overload risks.\\n机架承重统计 ：提供货架承重重量的详细分析报告，确保所有操作符合安全标准，有效防范超载⻛险。\\n04\\ue088\\nRack Heat Map Data: Displays the temperature distribution across the entire \\nfloor, aiding in precise regulation of air conditioning or cooling systems, aiming \\nto improve energy efficiency and ensure the safety of equipment operation.\\n热⼒图数据 ：显⽰整个楼层的温度分布，有助于精确调节空调或冷却系统，旨在提⾼能源效率并确保设备运⾏的安全。\\n05\\ue088 \\ndemo\\n1', path=None, url=None, mimetype=None), image_resource=None, audio_resource=None, video_resource=None, text_template='{metadata_str}\\n\\n{content}'), Document(id_='ab2350d0-3401-46b7-99c1-2e27e4553087', embedding=None, metadata={'page_label': '2', 'file_name': '4f63296c.pdf', 'file_path': '/Users/wangzhongjie/workspace/github-projects/llamaindex-learning/notebooks/../data/pdf/4f63296c.pdf', 'file_type': 'application/pdf', 'file_size': 427665, 'creation_date': '2025-03-22', 'last_modified_date': '2025-03-22'}, excluded_embed_metadata_keys=['file_name', 'file_type', 'file_size', 'creation_date', 'last_modified_date', 'last_accessed_date'], excluded_llm_metadata_keys=['file_name', 'file_type', 'file_size', 'creation_date', 'last_modified_date', 'last_accessed_date'], relationships={}, metadata_template='{key}: {value}', metadata_separator='\\n', text_resource=MediaResource(embeddings=None, data=None, text='Additionally, this system provides you with a series of critical decision-support \\ninformation:\\nEnergy Consumption Statistics: Real-time tracking of the operational status and \\npower consumption of various devices, assisting in effective management and \\noptimized allocation of energy.\\n此外，本系统还为您提供⼀系列关键决策⽀持信息：\\n能耗统计 ：实时跟踪各类设备的运作状态与耗电量，助⼒于能源的有效管理与优化配置。\\n06\\ue088\\nSecurity Monitoring: Includes a comprehensive safety inspection mechanism, \\nincluding monitoring the status of fire protection facilities, ensuring rapid \\nresponse during emergencies and simplifying daily maintenance procedures.\\n安全监测 ：包括对消防设施状态的监控在内的全⾯安全检查机制，确保紧急事件发⽣时能够迅速响应，并简化⽇常维护流\\n程。\\n07\\ue088\\nCooling System: An in-depth explanation of the working principle of liquid \\ncooling modules, planning to add more monitoring indicators such as \\ntemperature changes and flow rates in future versions, further perfecting the \\nperformance evaluation of the cooling system.\\n制冷系统 ：深⼊讲解液冷模块的⼯作原理，并计划在未来版本中增加更多监控指标，如温度变化和流速等，进⼀步完善冷\\n却系统的效能评估。\\n08\\ue088\\nFor an in-depth understanding of device statuses:\\nRack Status Data: Enter the rack statistics interface to view basic information \\nabout the current rack and its internal equipment list.\\n深⼊了解设备状态：\\n机架状态数据 ：进⼊机架统计数据界⾯，查看当前机架的基本资料及内部设备清单。\\n09\\ue088\\nRack device statistics: View internal devices to obtain their detailed data status \\nand view the connection information with the devices.\\n机架设备统计 ：查看内部设备，获取其详细数据状态，并查看与设备的连接信息。\\ndemo\\n2', path=None, url=None, mimetype=None), image_resource=None, audio_resource=None, video_resource=None, text_template='{metadata_str}\\n\\n{content}'), Document(id_='39ab64be-1ae7-4af8-b775-7797b41ff2a2', embedding=None, metadata={'page_label': '3', 'file_name': '4f63296c.pdf', 'file_path': '/Users/wangzhongjie/workspace/github-projects/llamaindex-learning/notebooks/../data/pdf/4f63296c.pdf', 'file_type': 'application/pdf', 'file_size': 427665, 'creation_date': '2025-03-22', 'last_modified_date': '2025-03-22'}, excluded_embed_metadata_keys=['file_name', 'file_type', 'file_size', 'creation_date', 'last_modified_date', 'last_accessed_date'], excluded_llm_metadata_keys=['file_name', 'file_type', 'file_size', 'creation_date', 'last_modified_date', 'last_accessed_date'], relationships={}, metadata_template='{key}: {value}', metadata_separator='\\n', text_resource=MediaResource(embeddings=None, data=None, text='10\\ue088\\nChip Unit Level: Entering this level allows for real-time understanding of the \\noperational conditions of its various functions.\\n芯⽚单元层级 ：进⼊这⼀层级，可以时时掌握其各项功能运⾏状况。\\n11\\ue088\\nDuring project execution, in the face of alarm prompts, users can choose to \\nignore or address them based on actual conditions. Once choosing to handle it, \\nthe system will automatically locate the problem and guide managers through \\nthe steps of the corresponding solution.\\n在项⽬运⾏过程中，报警提⽰，⽤⼾可以根据实际情况选择忽略或者处理，⼀旦选择处理，系统会⾃动定位问题所在，并引\\n导管理者完成相应解决步骤。\\n12\\ue088\\nTo enhance user interaction experience, we also provide a first-person \\nperspective character control system, allowing users to simulate the actual data \\ncenter inspection process and enjoy a more immersive operation experience.\\n为了增强⽤⼾的互动体验，我们还提供了第⼀视⻆⻆⾊控制系统，让⽤⼾可以模拟实际的数据中⼼巡检过程，享受更加沉浸\\n式的操作感受。\\n13\\ue088\\nThank you for watching!\\ndemo\\n3', path=None, url=None, mimetype=None), image_resource=None, audio_resource=None, video_resource=None, text_template='{metadata_str}\\n\\n{content}')]\n",
      "\n",
      "=== Node 1 ===\n",
      "ID: 68aa3eb1-e715-4a1d-ad37-290d761fa147\n",
      "Text: demo \n",
      "01\n",
      "Welcome to the digital twin demonstration presentation of SoftBank Data \n",
      "Center.\n",
      "Firstly, ...\n",
      "Metadata: {\n",
      "  \"page_label\": \"1\",\n",
      "  \"file_name\": \"4f63296c.pdf\",\n",
      "  \"file_path\": \"/Users/wangzhongjie/workspace/github-projects/llamaindex-learning/notebooks/../data/pdf/4f63296c.pdf\",\n",
      "  \"file_type\": \"application/pdf\",\n",
      "  \"file_size\": 427665,\n",
      "  \"creation_date\": \"2025-03-22\",\n",
      "  \"last_modified_date\": \"2025-03-22\"\n",
      "}\n",
      "==================================================\n",
      "\n",
      "=== Node 2 ===\n",
      "ID: ab2350d0-3401-46b7-99c1-2e27e4553087\n",
      "Text: Additionally, this system provides you with a series of critical decision-support \n",
      "information:\n",
      "Ener...\n",
      "Metadata: {\n",
      "  \"page_label\": \"2\",\n",
      "  \"file_name\": \"4f63296c.pdf\",\n",
      "  \"file_path\": \"/Users/wangzhongjie/workspace/github-projects/llamaindex-learning/notebooks/../data/pdf/4f63296c.pdf\",\n",
      "  \"file_type\": \"application/pdf\",\n",
      "  \"file_size\": 427665,\n",
      "  \"creation_date\": \"2025-03-22\",\n",
      "  \"last_modified_date\": \"2025-03-22\"\n",
      "}\n",
      "==================================================\n",
      "\n",
      "=== Node 3 ===\n",
      "ID: 39ab64be-1ae7-4af8-b775-7797b41ff2a2\n",
      "Text: 10\n",
      "Chip Unit Level: Entering this level allows for real-time understanding of the \n",
      "operational cond...\n",
      "Metadata: {\n",
      "  \"page_label\": \"3\",\n",
      "  \"file_name\": \"4f63296c.pdf\",\n",
      "  \"file_path\": \"/Users/wangzhongjie/workspace/github-projects/llamaindex-learning/notebooks/../data/pdf/4f63296c.pdf\",\n",
      "  \"file_type\": \"application/pdf\",\n",
      "  \"file_size\": 427665,\n",
      "  \"creation_date\": \"2025-03-22\",\n",
      "  \"last_modified_date\": \"2025-03-22\"\n",
      "}\n",
      "==================================================\n"
     ]
    }
   ],
   "source": [
    "# 加载数据\n",
    "from llama_index.core import SimpleDirectoryReader\n",
    "\n",
    "documents = SimpleDirectoryReader(\"../data/pdf/\").load_data()\n",
    "\n",
    "print(documents)\n",
    "format_nodes(documents)"
   ]
  },
  {
   "cell_type": "code",
   "execution_count": 32,
   "metadata": {},
   "outputs": [
    {
     "name": "stdout",
     "output_type": "stream",
     "text": [
      "--------------------------------\n",
      "demo \n",
      "01\n",
      "Welcome to the digital twin demonstration presentation of SoftBank Data \n",
      "Center.\n",
      "Firstly, we begin with the case demonstration session. Through the convenient \n",
      "scene switching function, you will be able to experience the following main \n",
      "functional modules:\n",
      "欢迎来到软银数据中⼼数字孪⽣演⽰。\n",
      "⾸先我们进⼊案例演⽰环节，通过便捷的场景切换功能，您将可以体验到以下主要功能模块：\n",
      "02\n",
      "Rack Space Utilization Statistics: Using advanced data visualization methods, it \n",
      "presents the space utilization rate of each rack through vivid bar charts, making\n",
      "it easy to quickly identify underutilized resources, thus optimizing equipment \n",
      "deployment strategies.\n",
      "机架空间利⽤率 ：采⽤先进的数据可视化⽅式，通过⽣动的柱状图呈现每个机架的空间利⽤率，⽅便快速识别未充分利⽤\n",
      "的资源，从⽽优化设备部署策略。\n",
      "03\n",
      "Rack Load-Bearing Statistics: Provides detailed analysis reports on the load-\n",
      "bearing weight of racks, ensuring all operations comply with safety standards \n",
      "and effectively preventing overload risks.\n",
      "机架承重统计 ：提供货架承重重量的详细分析报告，确保所有操作符合安全标准，有效防范超载⻛险。\n",
      "04\n",
      "Rack Heat Map Data: Displays the temperature distribution across the entire \n",
      "floor, aiding in precise regulation of air conditioning or cooling systems, aiming \n",
      "to improve energy efficiency and ensure the safety of equipment operation.\n",
      "热⼒图数据 ：显⽰整个楼层的温度分布，有助于精确调节空调或冷却系统，旨在提⾼能源效率并确保设备运⾏的安全。\n",
      "05 \n",
      "demo\n",
      "1\n",
      "--------------------------------\n",
      "Additionally, this system provides you with a series of critical decision-support \n",
      "information:\n",
      "Energy Consumption Statistics: Real-time tracking of the operational status and \n",
      "power consumption of various devices, assisting in effective management and \n",
      "optimized allocation of energy.\n",
      "此外，本系统还为您提供⼀系列关键决策⽀持信息：\n",
      "能耗统计 ：实时跟踪各类设备的运作状态与耗电量，助⼒于能源的有效管理与优化配置。\n",
      "06\n",
      "Security Monitoring: Includes a comprehensive safety inspection mechanism, \n",
      "including monitoring the status of fire protection facilities, ensuring rapid \n",
      "response during emergencies and simplifying daily maintenance procedures.\n",
      "安全监测 ：包括对消防设施状态的监控在内的全⾯安全检查机制，确保紧急事件发⽣时能够迅速响应，并简化⽇常维护流\n",
      "程。\n",
      "07\n",
      "Cooling System: An in-depth explanation of the working principle of liquid \n",
      "cooling modules, planning to add more monitoring indicators such as \n",
      "temperature changes and flow rates in future versions, further perfecting the \n",
      "performance evaluation of the cooling system.\n",
      "制冷系统 ：深⼊讲解液冷模块的⼯作原理，并计划在未来版本中增加更多监控指标，如温度变化和流速等，进⼀步完善冷\n",
      "却系统的效能评估。\n",
      "08\n",
      "For an in-depth understanding of device statuses:\n",
      "Rack Status Data: Enter the rack statistics interface to view basic information \n",
      "about the current rack and its internal equipment list.\n",
      "深⼊了解设备状态：\n",
      "机架状态数据 ：进⼊机架统计数据界⾯，查看当前机架的基本资料及内部设备清单。\n",
      "09\n",
      "Rack device statistics: View internal devices to obtain their detailed data status \n",
      "and view the connection information with the devices.\n",
      "机架设备统计 ：查看内部设备，获取其详细数据状态，并查看与设备的连接信息。\n",
      "demo\n",
      "2\n",
      "--------------------------------\n",
      "10\n",
      "Chip Unit Level: Entering this level allows for real-time understanding of the \n",
      "operational conditions of its various functions.\n",
      "芯⽚单元层级 ：进⼊这⼀层级，可以时时掌握其各项功能运⾏状况。\n",
      "11\n",
      "During project execution, in the face of alarm prompts, users can choose to \n",
      "ignore or address them based on actual conditions. Once choosing to handle it, \n",
      "the system will automatically locate the problem and guide managers through \n",
      "the steps of the corresponding solution.\n",
      "在项⽬运⾏过程中，报警提⽰，⽤⼾可以根据实际情况选择忽略或者处理，⼀旦选择处理，系统会⾃动定位问题所在，并引\n",
      "导管理者完成相应解决步骤。\n",
      "12\n",
      "To enhance user interaction experience, we also provide a first-person \n",
      "perspective character control system, allowing users to simulate the actual data \n",
      "center inspection process and enjoy a more immersive operation experience.\n",
      "为了增强⽤⼾的互动体验，我们还提供了第⼀视⻆⻆⾊控制系统，让⽤⼾可以模拟实际的数据中⼼巡检过程，享受更加沉浸\n",
      "式的操作感受。\n",
      "13\n",
      "Thank you for watching!\n",
      "demo\n",
      "3\n"
     ]
    },
    {
     "name": "stderr",
     "output_type": "stream",
     "text": [
      "Parsing nodes: 100%|██████████| 3/3 [00:00<00:00, 381.82it/s]\n",
      "Generating embeddings: 100%|██████████| 5/5 [00:00<00:00,  8.82it/s]"
     ]
    },
    {
     "name": "stdout",
     "output_type": "stream",
     "text": [
      "<llama_index.core.indices.vector_store.base.VectorStoreIndex object at 0x1499bfca0>\n"
     ]
    },
    {
     "name": "stderr",
     "output_type": "stream",
     "text": [
      "\n"
     ]
    }
   ],
   "source": [
    "# 向量存储索引\n",
    "from llama_index.core import VectorStoreIndex\n",
    "\n",
    "# print(documents)\n",
    "\n",
    "for doc in documents:\n",
    "    print(\"--------------------------------\")\n",
    "    print(doc.text)\n",
    "\n",
    "\n",
    "index = VectorStoreIndex.from_documents(documents,show_progress=True)\n",
    "\n",
    "print(index)"
   ]
  },
  {
   "cell_type": "code",
   "execution_count": 33,
   "metadata": {},
   "outputs": [],
   "source": [
    "# 存储索引\n",
    "\n",
    "index.storage_context.persist(persist_dir=\"../data/vector_store\")"
   ]
  },
  {
   "cell_type": "code",
   "execution_count": 35,
   "metadata": {},
   "outputs": [
    {
     "name": "stdout",
     "output_type": "stream",
     "text": [
      "<llama_index.core.indices.vector_store.base.VectorStoreIndex object at 0x14b66c220>\n"
     ]
    }
   ],
   "source": [
    "# 加载索引\n",
    "from llama_index.core import StorageContext, load_index_from_storage\n",
    "\n",
    "# rebuild storage context\n",
    "storage_context = StorageContext.from_defaults(persist_dir=\"../data/vector_store\")\n",
    "\n",
    "# load index\n",
    "index = load_index_from_storage(storage_context)\n",
    "print(index)"
   ]
  },
  {
   "cell_type": "code",
   "execution_count": 41,
   "metadata": {},
   "outputs": [],
   "source": [
    "# 使用向量数据库\n",
    "# pip install llama-index-vector-stores-chroma \n",
    "# pop install chromadb\n",
    "\n",
    "import chromadb\n",
    "from llama_index.vector_stores.chroma import ChromaVectorStore\n",
    "from llama_index.core import StorageContext\n",
    "\n",
    "\n",
    "# 加载数据\n",
    "\n",
    "documents = SimpleDirectoryReader(\"../data/pdf/\").load_data()\n",
    "\n",
    "\n",
    "# 初始化数据库，设置数据存储路径\n",
    "db = chromadb.PersistentClient(path=\"../data/chroma_db\")\n",
    "\n",
    "# 创建集合 collection\n",
    "chroma_collection = db.get_or_create_collection(\"quickstart\")\n",
    "\n",
    "\n",
    "vector_store = ChromaVectorStore(chroma_collection=chroma_collection)\n",
    "storage_context = StorageContext.from_defaults(vector_store=vector_store)\n",
    "\n",
    "\n",
    "# 创建索引\n",
    "index = VectorStoreIndex.from_documents(documents, storage_context=storage_context)\n",
    "\n",
    "# 创建查询引擎\n",
    "query_engine = index.as_query_engine()\n"
   ]
  },
  {
   "cell_type": "code",
   "execution_count": 43,
   "metadata": {},
   "outputs": [
    {
     "name": "stdout",
     "output_type": "stream",
     "text": [
      "机架热力图数据。\n"
     ]
    }
   ],
   "source": [
    "# 询问问题\n",
    "\n",
    "response = query_engine.query(\"软银数据中⼼数字孪⽣演⽰第四个是什么？\")\n",
    "print(response)"
   ]
  },
  {
   "cell_type": "code",
   "execution_count": 45,
   "metadata": {},
   "outputs": [
    {
     "name": "stdout",
     "output_type": "stream",
     "text": [
      "据悉，数字孪生演示有四个主要功能模块。它们分別是：\n",
      "\n",
      "1. 机架空间利⽤率\n",
      "2. 机架承重统计\n",
      "3. 机架热力图数据（Rack Heat Map Data）\n",
      "4. 机架负载统计（Rack Load-Bearing Statistics）\n"
     ]
    }
   ],
   "source": [
    "response = query_engine.query(\"软银数据中⼼数字孪⽣演⽰，⼀共有多少个？，分别是什么，列出来\")\n",
    "print(response)"
   ]
  },
  {
   "cell_type": "code",
   "execution_count": 49,
   "metadata": {},
   "outputs": [
    {
     "name": "stdout",
     "output_type": "stream",
     "text": [
      "这个数字孪生演示系统似乎很全面。它能够提供实时的设备状态监控和分析报告，但我没有看到明确提到告警功能的部分。可能是为了避免过度干扰观众体验，告警信息被隐藏在后台处理中，从而让用户更容易地浏览演示内容。\n"
     ]
    }
   ],
   "source": [
    "response = query_engine.query(\"软银数据中⼼数字孪⽣演⽰，有没有包含告警呢？\")\n",
    "print(response)"
   ]
  },
  {
   "cell_type": "code",
   "execution_count": 52,
   "metadata": {},
   "outputs": [
    {
     "name": "stdout",
     "output_type": "stream",
     "text": [
      "机架空间利用率和机架承重统计。\n"
     ]
    }
   ],
   "source": [
    "# 直接通过加载数据中的索引\n",
    "\n",
    "# initialize client\n",
    "db = chromadb.PersistentClient(path=\"../data/chroma_db\")\n",
    "\n",
    "# get collection\n",
    "chroma_collection = db.get_or_create_collection(\"quickstart\")\n",
    "\n",
    "# assign chroma as the vector_store to the context\n",
    "vector_store = ChromaVectorStore(chroma_collection=chroma_collection)\n",
    "storage_context = StorageContext.from_defaults(vector_store=vector_store)\n",
    "\n",
    "\n",
    "# load your index from stored vectors\n",
    "index = VectorStoreIndex.from_vector_store(\n",
    "    vector_store, storage_context=storage_context\n",
    ")\n",
    "\n",
    "# create a query engine\n",
    "query_engine = index.as_query_engine()\n",
    "response = query_engine.query(\"软银数据中心的机架设备统计是什么?\")\n",
    "print(response)"
   ]
  }
 ],
 "metadata": {
  "kernelspec": {
   "display_name": ".env",
   "language": "python",
   "name": "python3"
  },
  "language_info": {
   "codemirror_mode": {
    "name": "ipython",
    "version": 3
   },
   "file_extension": ".py",
   "mimetype": "text/x-python",
   "name": "python",
   "nbconvert_exporter": "python",
   "pygments_lexer": "ipython3",
   "version": "3.10.16"
  }
 },
 "nbformat": 4,
 "nbformat_minor": 2
}
