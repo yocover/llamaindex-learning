{
 "cells": [
  {
   "cell_type": "code",
   "execution_count": 1,
   "metadata": {},
   "outputs": [
    {
     "name": "stdout",
     "output_type": "stream",
     "text": [
      "你好！我是 LLaMA，一个由 Meta 研发的大型语言模型。\n"
     ]
    }
   ],
   "source": [
    "\n",
    "from llama_index.llms.ollama import Ollama\n",
    "\n",
    "# 使用本地部署的ollama模型\n",
    "llm = Ollama(model=\"llama3.1\", request_timeout=60.0)\n",
    "res = llm.complete(\"你好，介绍一下自己？\")\n",
    "print(res)"
   ]
  },
  {
   "cell_type": "code",
   "execution_count": null,
   "metadata": {},
   "outputs": [
    {
     "name": "stdout",
     "output_type": "stream",
     "text": [
      "特斯拉的目前股价为 $248.71。\n"
     ]
    }
   ],
   "source": [
    "# pip install llama-index-tools-yahoo-finance\n",
    "from llama_index.tools.yahoo_finance import YahooFinanceToolSpec\n",
    "from llama_index.core.agent.workflow import FunctionAgent\n",
    "\n",
    "finance_tools = YahooFinanceToolSpec().to_tool_list()\n",
    "\n",
    "workflow = FunctionAgent(\n",
    "    name=\"Agent\",\n",
    "    description=\"擅长回答关于股票的问题。\",\n",
    "    llm=llm,\n",
    "    tools=finance_tools,\n",
    "    system_prompt=''' \n",
    "      您是一位能使用金融工具的得力助手。\n",
    "      当被问及股票价格或财务信息时，请始终使用提供的雅虎财经工具来获取实时数据。\n",
    "      不建议编写新功能或直接使用外部库。\n",
    "      ''',\n",
    ")\n",
    "\n",
    "\n",
    "async def main():\n",
    "  response = await workflow.run(user_msg=\"特斯拉 目前的股价是多少？\")\n",
    "  print(response)\n",
    "\n",
    "await main()"
   ]
  }
 ],
 "metadata": {
  "kernelspec": {
   "display_name": ".env",
   "language": "python",
   "name": "python3"
  },
  "language_info": {
   "codemirror_mode": {
    "name": "ipython",
    "version": 3
   },
   "file_extension": ".py",
   "mimetype": "text/x-python",
   "name": "python",
   "nbconvert_exporter": "python",
   "pygments_lexer": "ipython3",
   "version": "3.10.16"
  }
 },
 "nbformat": 4,
 "nbformat_minor": 2
}
