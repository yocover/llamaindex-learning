{
 "cells": [
  {
   "cell_type": "markdown",
   "metadata": {},
   "source": [
    "Connected to .env (Python 3.10.16)\n"
   ]
  },
  {
   "cell_type": "code",
   "execution_count": null,
   "metadata": {},
   "outputs": [],
   "source": [
    "# pip install llama-index-llms-openai 内置的openai llms 调用\n",
    "\n",
    "import sys\n",
    "\n",
    "sys.path.append(\"..\")  # 添加父目录到 Python 路径\n",
    "\n",
    "from llama_index.llms.openai import OpenAI\n",
    "\n",
    "\n",
    "response = OpenAI(api_key=\"your api key\").complete(\"hello world\")  # complete 是异步方法\n",
    "print(response)"
   ]
  },
  {
   "cell_type": "code",
   "execution_count": null,
   "metadata": {},
   "outputs": [],
   "source": [
    "# 流式响应\n",
    "\n",
    "handle = OpenAI(api_key=\"your api key\").stream_complete(\"hello world\")\n",
    "\n",
    "for token in handle:\n",
    "    # delta 是流式响应的增量\n",
    "    print(token.delta, end=\"\", flush=True)  # 流式响应"
   ]
  },
  {
   "cell_type": "code",
   "execution_count": null,
   "metadata": {},
   "outputs": [],
   "source": [
    "# chat interface\n",
    "from llama_index.llms.openai import OpenAI\n",
    "from llama_index.core.llms import ChatMessage\n",
    "\n",
    "message = [\n",
    "    ChatMessage(role=\"system\", content=\"你是一个AI助手，请回答用户的问题。\"),\n",
    "    ChatMessage(role=\"user\", content=\"你好\"),\n",
    "]\n",
    "\n",
    "llm = OpenAI(api_key=\"your api key\")\n",
    "\n",
    "resp = llm.chat(message)"
   ]
  },
  {
   "cell_type": "code",
   "execution_count": null,
   "metadata": {},
   "outputs": [],
   "source": [
    "# 指定模型\n",
    "llm = OpenAI(api_key=\"your api key\", model=\"gpt-3.5-turbo\")"
   ]
  },
  {
   "cell_type": "code",
   "execution_count": 28,
   "metadata": {},
   "outputs": [],
   "source": [
    "from llama_index.core.llms import ChatMessage, TextBlock, ImageBlock\n",
    "from llama_index.llms.openai import OpenAI\n",
    "\n",
    "llm = OpenAI(model=\"gpt-4o\")\n",
    "\n",
    "messages = [\n",
    "    ChatMessage(\n",
    "        role=\"user\",\n",
    "        blocks=[\n",
    "            ImageBlock(path=\"image.png\"),\n",
    "            TextBlock(text=\"Describe the image in a few sentences.\"),\n",
    "        ],\n",
    "    )\n",
    "]\n",
    "\n",
    "resp = llm.chat(messages)\n",
    "print(resp.message.content)"
   ]
  },
  {
   "cell_type": "code",
   "execution_count": 41,
   "metadata": {},
   "outputs": [
    {
     "name": "stdout",
     "output_type": "stream",
     "text": [
      "很抱歉，我无法直接查看或分析图像。不过，如果你能提供关于这张图片的详细描述或背景信息，我可以帮助解释或提供相关内容。\n",
      "\n",
      "例如：\n",
      "\n",
      "- 图片中包含什么元素？（如人物、动物、风景等）\n",
      "- 图片的主题是什么？\n",
      "- 是否有任何标识性文字、标题或背景信息？\n",
      "\n",
      "如果你能提供这些信息，我将尽力为你解释或分析。\n"
     ]
    }
   ],
   "source": [
    "from llama_index.llms.ollama import Ollama\n",
    "\n",
    "# 使用本地部署的ollama模型\n",
    "llm = Ollama(model=\"phi4:latest\", request_timeout=60.0)\n",
    "\n",
    "# response = llm.complete(\"介绍一下自己在\")\n",
    "# print(response)\n",
    "\n",
    "messages = [\n",
    "    ChatMessage(\n",
    "        role=\"user\",\n",
    "        blocks=[\n",
    "            ImageBlock(path=\"./images/rag-design.jpg\"),\n",
    "            TextBlock(text=\"介绍一下这张图片.\"),\n",
    "        ],\n",
    "    )\n",
    "]\n",
    "\n",
    "resp = llm.chat(messages)\n",
    "print(resp.message.content)\n",
    "\n"
   ]
  }
 ],
 "metadata": {
  "kernelspec": {
   "display_name": ".env",
   "language": "python",
   "name": "python3"
  },
  "language_info": {
   "codemirror_mode": {
    "name": "ipython",
    "version": 3
   },
   "file_extension": ".py",
   "mimetype": "text/x-python",
   "name": "python",
   "nbconvert_exporter": "python",
   "pygments_lexer": "ipython3",
   "version": "3.10.16"
  }
 },
 "nbformat": 4,
 "nbformat_minor": 2
}
