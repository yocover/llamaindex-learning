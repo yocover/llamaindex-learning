{
 "cells": [
  {
   "cell_type": "markdown",
   "metadata": {},
   "source": [
    "已连接到 .env (Python 3.10.16)"
   ]
  },
  {
   "cell_type": "code",
   "execution_count": null,
   "metadata": {},
   "outputs": [],
   "source": [
    "# milvue 向量数据库使用\n",
    "# pip install llama-index-vector-stores-milvus"
   ]
  },
  {
   "cell_type": "code",
   "execution_count": 5,
   "metadata": {},
   "outputs": [],
   "source": [
    "from pymilvus import connections, utility,db\n",
    "\n",
    "# 连接milvus\n",
    "connections.connect(\"default\", host=\"127.0.0.1\", port=\"19530\")\n",
    "\n",
    "# 创建数据库\n",
    "db.create_database(\"LlamaIndexBase\")\n",
    "\n",
    "\n",
    "# 连接新创建的数据库\n",
    "connections.connect(\"default\", host=\"127.0.0.1\", port=\"19530\", db_name=\"LlamaIndexBase\") "
   ]
  },
  {
   "cell_type": "code",
   "execution_count": 9,
   "metadata": {},
   "outputs": [],
   "source": [
    "from llama_index.llms.ollama import Ollama\n",
    "from llama_index.embeddings.ollama import OllamaEmbedding\n",
    "from llama_index.core import Settings\n",
    "\n",
    "# 使用本地部署的ollama模型\n",
    "llm = Ollama(model=\"llama3.1\", request_timeout=60.0)\n",
    "Settings.llm = llm\n",
    "\n",
    "\n",
    "embed_model = OllamaEmbedding(model_name=\"bge-m3\") # 向量纬度 1024\n",
    "Settings.embed_model = embed_model\n",
    "Settings.chunk_size = 512\n",
    "Settings.chunk_overlap = 132"
   ]
  },
  {
   "cell_type": "code",
   "execution_count": 10,
   "metadata": {},
   "outputs": [
    {
     "name": "stderr",
     "output_type": "stream",
     "text": [
      "WARNING: All log messages before absl::InitializeLog() is called are written to STDERR\n",
      "I0000 00:00:1742705997.965871 22281672 fork_posix.cc:77] Other threads are currently calling into gRPC, skipping fork() handlers\n",
      "2025-03-23 13:00:00,866 [DEBUG][_create_connection]: Created new connection using: 5eea8363f9f94399a401ae79f83c9d85 (async_milvus_client.py:600)\n"
     ]
    }
   ],
   "source": [
    "from llama_index.vector_stores.milvus import MilvusVectorStore\n",
    "\n",
    "\n",
    "collection_name = \"llama_collection\"\n",
    "dimension = 1024  # 向量维度，依赖于您使用的嵌入模型\n",
    "\n",
    "# Setup MilvusVectorStore\n",
    "vector_store = MilvusVectorStore(\n",
    "    dim=dimension,\n",
    "    collection_name=collection_name,\n",
    ")"
   ]
  },
  {
   "cell_type": "code",
   "execution_count": 11,
   "metadata": {},
   "outputs": [],
   "source": [
    "from llama_index.core import VectorStoreIndex\n",
    "from llama_index.core.readers import SimpleDirectoryReader\n",
    "\n",
    "# 5. 加载文档\n",
    "documents = SimpleDirectoryReader(\"../data/pdf/\").load_data()\n",
    "\n",
    "# 6. 创建索引\n",
    "index = VectorStoreIndex.from_documents(\n",
    "    documents,\n",
    "    vector_store=vector_store\n",
    ")\n",
    "\n"
   ]
  },
  {
   "cell_type": "code",
   "execution_count": 15,
   "metadata": {},
   "outputs": [
    {
     "name": "stdout",
     "output_type": "stream",
     "text": [
      "所有集合: []\n"
     ]
    }
   ],
   "source": [
    "# 查看所有集合\n",
    "print(\"所有集合:\", utility.list_collections())"
   ]
  }
 ],
 "metadata": {
  "kernelspec": {
   "display_name": ".env",
   "language": "python",
   "name": "python3"
  },
  "language_info": {
   "codemirror_mode": {
    "name": "ipython",
    "version": 3
   },
   "file_extension": ".py",
   "mimetype": "text/x-python",
   "name": "python",
   "nbconvert_exporter": "python",
   "pygments_lexer": "ipython3",
   "version": "3.10.16"
  }
 },
 "nbformat": 4,
 "nbformat_minor": 2
}
