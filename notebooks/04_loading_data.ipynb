{
 "cells": [
  {
   "cell_type": "markdown",
   "metadata": {},
   "source": [
    "已连接到 .env (Python 3.10.16)\n"
   ]
  },
  {
   "cell_type": "code",
   "execution_count": 1,
   "metadata": {},
   "outputs": [],
   "source": [
    "from llama_index.llms.ollama import Ollama\n",
    "from llama_index.embeddings.ollama import OllamaEmbedding\n",
    "from llama_index.core import Settings\n",
    "\n",
    "# 使用本地部署的ollama模型\n",
    "llm = Ollama(model=\"llama3.1\", request_timeout=60.0)\n",
    "Settings.llm = llm\n",
    "\n",
    "\n",
    "embed_model = OllamaEmbedding(model_name=\"bge-m3\")\n",
    "Settings.embed_model = embed_model"
   ]
  },
  {
   "cell_type": "code",
   "execution_count": 2,
   "metadata": {},
   "outputs": [
    {
     "name": "stdout",
     "output_type": "stream",
     "text": [
      "[Document(id_='e32c6556-cc48-4138-b1bf-c54dece576d7', embedding=None, metadata={'page_label': '1', 'file_name': '4f63296c.pdf', 'file_path': '/Users/wangzhongjie/workspace/github-projects/llamaindex-learning/notebooks/../data/pdf/4f63296c.pdf', 'file_type': 'application/pdf', 'file_size': 427665, 'creation_date': '2025-03-22', 'last_modified_date': '2025-03-22'}, excluded_embed_metadata_keys=['file_name', 'file_type', 'file_size', 'creation_date', 'last_modified_date', 'last_accessed_date'], excluded_llm_metadata_keys=['file_name', 'file_type', 'file_size', 'creation_date', 'last_modified_date', 'last_accessed_date'], relationships={}, metadata_template='{key}: {value}', metadata_separator='\\n', text_resource=MediaResource(embeddings=None, data=None, text='demo \\n01\\ue088\\nWelcome to the digital twin demonstration presentation of SoftBank Data \\nCenter.\\nFirstly, we begin with the case demonstration session. Through the convenient \\nscene switching function, you will be able to experience the following main \\nfunctional modules:\\n欢迎来到软银数据中⼼数字孪⽣演⽰。\\n⾸先我们进⼊案例演⽰环节，通过便捷的场景切换功能，您将可以体验到以下主要功能模块：\\n02\\ue088\\nRack Space Utilization Statistics: Using advanced data visualization methods, it \\npresents the space utilization rate of each rack through vivid bar charts, making\\nit easy to quickly identify underutilized resources, thus optimizing equipment \\ndeployment strategies.\\n机架空间利⽤率 ：采⽤先进的数据可视化⽅式，通过⽣动的柱状图呈现每个机架的空间利⽤率，⽅便快速识别未充分利⽤\\n的资源，从⽽优化设备部署策略。\\n03\\ue088\\nRack Load-Bearing Statistics: Provides detailed analysis reports on the load-\\nbearing weight of racks, ensuring all operations comply with safety standards \\nand effectively preventing overload risks.\\n机架承重统计 ：提供货架承重重量的详细分析报告，确保所有操作符合安全标准，有效防范超载⻛险。\\n04\\ue088\\nRack Heat Map Data: Displays the temperature distribution across the entire \\nfloor, aiding in precise regulation of air conditioning or cooling systems, aiming \\nto improve energy efficiency and ensure the safety of equipment operation.\\n热⼒图数据 ：显⽰整个楼层的温度分布，有助于精确调节空调或冷却系统，旨在提⾼能源效率并确保设备运⾏的安全。\\n05\\ue088 \\ndemo\\n1', path=None, url=None, mimetype=None), image_resource=None, audio_resource=None, video_resource=None, text_template='{metadata_str}\\n\\n{content}'), Document(id_='7ca5bc8c-81fc-4fdb-85bc-f276d3dc14c6', embedding=None, metadata={'page_label': '2', 'file_name': '4f63296c.pdf', 'file_path': '/Users/wangzhongjie/workspace/github-projects/llamaindex-learning/notebooks/../data/pdf/4f63296c.pdf', 'file_type': 'application/pdf', 'file_size': 427665, 'creation_date': '2025-03-22', 'last_modified_date': '2025-03-22'}, excluded_embed_metadata_keys=['file_name', 'file_type', 'file_size', 'creation_date', 'last_modified_date', 'last_accessed_date'], excluded_llm_metadata_keys=['file_name', 'file_type', 'file_size', 'creation_date', 'last_modified_date', 'last_accessed_date'], relationships={}, metadata_template='{key}: {value}', metadata_separator='\\n', text_resource=MediaResource(embeddings=None, data=None, text='Additionally, this system provides you with a series of critical decision-support \\ninformation:\\nEnergy Consumption Statistics: Real-time tracking of the operational status and \\npower consumption of various devices, assisting in effective management and \\noptimized allocation of energy.\\n此外，本系统还为您提供⼀系列关键决策⽀持信息：\\n能耗统计 ：实时跟踪各类设备的运作状态与耗电量，助⼒于能源的有效管理与优化配置。\\n06\\ue088\\nSecurity Monitoring: Includes a comprehensive safety inspection mechanism, \\nincluding monitoring the status of fire protection facilities, ensuring rapid \\nresponse during emergencies and simplifying daily maintenance procedures.\\n安全监测 ：包括对消防设施状态的监控在内的全⾯安全检查机制，确保紧急事件发⽣时能够迅速响应，并简化⽇常维护流\\n程。\\n07\\ue088\\nCooling System: An in-depth explanation of the working principle of liquid \\ncooling modules, planning to add more monitoring indicators such as \\ntemperature changes and flow rates in future versions, further perfecting the \\nperformance evaluation of the cooling system.\\n制冷系统 ：深⼊讲解液冷模块的⼯作原理，并计划在未来版本中增加更多监控指标，如温度变化和流速等，进⼀步完善冷\\n却系统的效能评估。\\n08\\ue088\\nFor an in-depth understanding of device statuses:\\nRack Status Data: Enter the rack statistics interface to view basic information \\nabout the current rack and its internal equipment list.\\n深⼊了解设备状态：\\n机架状态数据 ：进⼊机架统计数据界⾯，查看当前机架的基本资料及内部设备清单。\\n09\\ue088\\nRack device statistics: View internal devices to obtain their detailed data status \\nand view the connection information with the devices.\\n机架设备统计 ：查看内部设备，获取其详细数据状态，并查看与设备的连接信息。\\ndemo\\n2', path=None, url=None, mimetype=None), image_resource=None, audio_resource=None, video_resource=None, text_template='{metadata_str}\\n\\n{content}'), Document(id_='2a4daa4c-8efd-4105-814c-879a2ec40076', embedding=None, metadata={'page_label': '3', 'file_name': '4f63296c.pdf', 'file_path': '/Users/wangzhongjie/workspace/github-projects/llamaindex-learning/notebooks/../data/pdf/4f63296c.pdf', 'file_type': 'application/pdf', 'file_size': 427665, 'creation_date': '2025-03-22', 'last_modified_date': '2025-03-22'}, excluded_embed_metadata_keys=['file_name', 'file_type', 'file_size', 'creation_date', 'last_modified_date', 'last_accessed_date'], excluded_llm_metadata_keys=['file_name', 'file_type', 'file_size', 'creation_date', 'last_modified_date', 'last_accessed_date'], relationships={}, metadata_template='{key}: {value}', metadata_separator='\\n', text_resource=MediaResource(embeddings=None, data=None, text='10\\ue088\\nChip Unit Level: Entering this level allows for real-time understanding of the \\noperational conditions of its various functions.\\n芯⽚单元层级 ：进⼊这⼀层级，可以时时掌握其各项功能运⾏状况。\\n11\\ue088\\nDuring project execution, in the face of alarm prompts, users can choose to \\nignore or address them based on actual conditions. Once choosing to handle it, \\nthe system will automatically locate the problem and guide managers through \\nthe steps of the corresponding solution.\\n在项⽬运⾏过程中，报警提⽰，⽤⼾可以根据实际情况选择忽略或者处理，⼀旦选择处理，系统会⾃动定位问题所在，并引\\n导管理者完成相应解决步骤。\\n12\\ue088\\nTo enhance user interaction experience, we also provide a first-person \\nperspective character control system, allowing users to simulate the actual data \\ncenter inspection process and enjoy a more immersive operation experience.\\n为了增强⽤⼾的互动体验，我们还提供了第⼀视⻆⻆⾊控制系统，让⽤⼾可以模拟实际的数据中⼼巡检过程，享受更加沉浸\\n式的操作感受。\\n13\\ue088\\nThank you for watching!\\ndemo\\n3', path=None, url=None, mimetype=None), image_resource=None, audio_resource=None, video_resource=None, text_template='{metadata_str}\\n\\n{content}')]\n"
     ]
    }
   ],
   "source": [
    "# 加载数据\n",
    "\n",
    "# 数据获取通常包含三个主要阶段\n",
    "\n",
    "# 1. 加载数据\n",
    "# 2. 转换数据\n",
    "# 3.索引并存储数据\n",
    "\n",
    "\n",
    "# 加载数据\n",
    "\n",
    "from llama_index.core import SimpleDirectoryReader\n",
    "\n",
    "documents = SimpleDirectoryReader(\"../data/pdf/\").load_data()\n",
    "\n",
    "print(documents)"
   ]
  },
  {
   "cell_type": "code",
   "execution_count": 3,
   "metadata": {},
   "outputs": [
    {
     "name": "stdout",
     "output_type": "stream",
     "text": [
      "<llama_index.core.indices.vector_store.base.VectorStoreIndex object at 0x1158612d0>\n"
     ]
    }
   ],
   "source": [
    "from llama_index.core import VectorStoreIndex\n",
    "\n",
    "# indexes 有一个 .from_documents() 方法，它接受 Document 对象数组，并会正确解析和分块它们\n",
    "vector_index = VectorStoreIndex.from_documents(documents)\n",
    "vector_index.as_query_engine()\n",
    "\n",
    "print(vector_index)"
   ]
  },
  {
   "cell_type": "code",
   "execution_count": 4,
   "metadata": {},
   "outputs": [
    {
     "name": "stdout",
     "output_type": "stream",
     "text": [
      "<llama_index.core.indices.vector_store.base.VectorStoreIndex object at 0x115862890>\n"
     ]
    }
   ],
   "source": [
    "# 自定义核心组件，比如文本分割器，可以通过这个抽象层传递一个自定义的 transformations 列表或应用到全局 Settings\n",
    "from llama_index.core.node_parser import SentenceSplitter\n",
    "\n",
    "text_splitter = SentenceSplitter(chunk_size=128, chunk_overlap=10)\n",
    "\n",
    "Settings.node_parser = text_splitter\n",
    "\n",
    "index = VectorStoreIndex.from_documents(documents,transformations=[text_splitter])\n",
    "\n",
    "print(index)\n",
    "\n"
   ]
  },
  {
   "cell_type": "code",
   "execution_count": 11,
   "metadata": {},
   "outputs": [
    {
     "name": "stdout",
     "output_type": "stream",
     "text": [
      "\n",
      "=== Node 1 ===\n",
      "ID: 2f7f5af2-9f94-46c9-bacb-ca13391bc1ab\n",
      "Text: ## Python学习资源汇总\n",
      "\n",
      "最近有很多小伙伴在找 Python 的相关学习资源，给大家做一个汇总吧，大家就不需要到处打听了，而且网上的资源良莠不齐，给大家整理一些优质的资源，让大家少走弯路。温馨...\n",
      "Metadata: {\n",
      "  \"file_path\": \"/Users/wangzhongjie/workspace/github-projects/llamaindex-learning/notebooks/../data/md/python.md\",\n",
      "  \"file_name\": \"python.md\",\n",
      "  \"file_size\": 9362,\n",
      "  \"creation_date\": \"2025-03-22\",\n",
      "  \"last_modified_date\": \"2025-03-22\"\n",
      "}\n",
      "==================================================\n",
      "\n",
      "=== Node 2 ===\n",
      "ID: 4d28d716-ee65-441b-ad70-25e93c38055e\n",
      "Text: [《PyTorch: Deep Learning and Artificial Intelligence》](https://www.udemy.com/course/pytorch-deep-lea...\n",
      "Metadata: {\n",
      "  \"file_path\": \"/Users/wangzhongjie/workspace/github-projects/llamaindex-learning/notebooks/../data/md/python.md\",\n",
      "  \"file_name\": \"python.md\",\n",
      "  \"file_size\": 9362,\n",
      "  \"creation_date\": \"2025-03-22\",\n",
      "  \"last_modified_date\": \"2025-03-22\"\n",
      "}\n",
      "==================================================\n",
      "\n",
      "=== Node 3 ===\n",
      "ID: 98ec21d4-9539-4245-8d4e-9192a820036f\n",
      "Text: - 在线学习平台\n",
      "15. [DeepLearning.ai](https://www.deeplearning.ai/) - 吴恩达（Andrew Ng）老师创办的深度学习教育平台\n",
      "16. [力扣](...\n",
      "Metadata: {\n",
      "  \"file_path\": \"/Users/wangzhongjie/workspace/github-projects/llamaindex-learning/notebooks/../data/md/python.md\",\n",
      "  \"file_name\": \"python.md\",\n",
      "  \"file_size\": 9362,\n",
      "  \"creation_date\": \"2025-03-22\",\n",
      "  \"last_modified_date\": \"2025-03-22\"\n",
      "}\n",
      "==================================================\n",
      "\n",
      "=== Node 4 ===\n",
      "ID: 0488cb76-6565-467a-b0a0-4f6b6a3557bd\n",
      "Text: 日本获奖书籍，入门推荐\n",
      "4. 《深度学习》（*Deep Learning*）- 深度学习经典神作\n",
      "5. 《动手学深度学习》（*Dive into Deep Learning*）- 阿斯顿·张和李沐强强...\n",
      "Metadata: {\n",
      "  \"file_path\": \"/Users/wangzhongjie/workspace/github-projects/llamaindex-learning/notebooks/../data/md/python.md\",\n",
      "  \"file_name\": \"python.md\",\n",
      "  \"file_size\": 9362,\n",
      "  \"creation_date\": \"2025-03-22\",\n",
      "  \"last_modified_date\": \"2025-03-22\"\n",
      "}\n",
      "==================================================\n"
     ]
    }
   ],
   "source": [
    "from llama_index.core import SimpleDirectoryReader\n",
    "from llama_index.core.ingestion import IngestionPipeline\n",
    "from llama_index.core.node_parser import TokenTextSplitter\n",
    "\n",
    "from pprint import pprint\n",
    "import json\n",
    "\n",
    "documents = SimpleDirectoryReader(\"../data/md/\").load_data()\n",
    "\n",
    "vector_index = VectorStoreIndex.from_documents(documents)\n",
    "vector_index.as_query_engine()\n",
    "\n",
    "pipeline = IngestionPipeline(transformations=[TokenTextSplitter()])\n",
    "\n",
    "nodes = pipeline.run(documents=documents)\n",
    "\n",
    "# # pprint(nodes)\n",
    "# print(json.dumps(nodes, indent=2, ensure_ascii=False))\n",
    "\n",
    "\n",
    "# 使用更好的格式化输出\n",
    "def format_nodes(nodes):\n",
    "    for i, node in enumerate(nodes, 1):\n",
    "        print(f\"\\n=== Node {i} ===\")\n",
    "        print(f\"ID: {node.id_}\")\n",
    "        print(\n",
    "            f\"Text: {node.text[:100]}...\"\n",
    "            if len(node.text) > 100\n",
    "            else f\"Text: {node.text}\"\n",
    "        )\n",
    "        print(f\"Metadata: {json.dumps(node.metadata, indent=2, ensure_ascii=False)}\")\n",
    "        print(\"=\" * 50)\n",
    "\n",
    "\n",
    "format_nodes(nodes)"
   ]
  }
 ],
 "metadata": {
  "kernelspec": {
   "display_name": ".env",
   "language": "python",
   "name": "python3"
  },
  "language_info": {
   "codemirror_mode": {
    "name": "ipython",
    "version": 3
   },
   "file_extension": ".py",
   "mimetype": "text/x-python",
   "name": "python",
   "nbconvert_exporter": "python",
   "pygments_lexer": "ipython3",
   "version": "3.10.16"
  }
 },
 "nbformat": 4,
 "nbformat_minor": 2
}
